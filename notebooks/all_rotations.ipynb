{
 "cells": [
  {
   "cell_type": "code",
   "execution_count": 1,
   "metadata": {},
   "outputs": [],
   "source": [
    "import sys\n",
    "sys.path.append('../src')\n",
    "\n",
    "from agents import Man, Woman\n",
    "from deferred_acceptance import deferred_acceptance\n",
    "from all_rotations import all_rotations\n",
    "from random import sample"
   ]
  },
  {
   "cell_type": "code",
   "execution_count": 2,
   "metadata": {},
   "outputs": [
    {
     "name": "stdout",
     "output_type": "stream",
     "text": [
      "{m_0: w_5, m_1: w_7, m_2: w_0, m_3: w_9, m_4: w_8, m_5: w_6, m_6: w_3, m_7: w_1, m_8: w_4, m_9: w_2, w_0: m_2, w_1: m_7, w_2: m_9, w_3: m_6, w_4: m_8, w_5: m_0, w_6: m_5, w_7: m_1, w_8: m_4, w_9: m_3}\n",
      "{m_0: w_5, m_1: w_9, m_2: w_7, m_3: w_1, m_4: w_0, m_5: w_6, m_6: w_3, m_7: w_8, m_8: w_4, m_9: w_2, w_0: m_4, w_1: m_3, w_2: m_9, w_3: m_6, w_4: m_8, w_5: m_0, w_6: m_5, w_7: m_2, w_8: m_7, w_9: m_1}\n",
      "False\n",
      "3\n",
      "[(m_2, w_0), (m_4, w_8)]\n",
      "[(m_1, w_7), (m_2, w_8)]\n",
      "[(m_1, w_8), (m_3, w_9), (m_7, w_1)]\n"
     ]
    }
   ],
   "source": [
    "n = 10\n",
    "\n",
    "men_list = [Man(i) for i in range(n)]\n",
    "women_list = [Woman(i) for i in range(n)]\n",
    "\n",
    "for man in men_list:\n",
    "    man.set_pref(sample(women_list, k=len(women_list)))\n",
    "for woman in women_list:\n",
    "    woman.set_pref(sample(men_list, k=len(men_list)))\n",
    "\n",
    "man_optimal_matching = deferred_acceptance(men_list, women_list, True)\n",
    "print(man_optimal_matching)\n",
    "woman_optimal_matching = deferred_acceptance(men_list, women_list, False)\n",
    "print(woman_optimal_matching)\n",
    "\n",
    "print(man_optimal_matching == woman_optimal_matching)\n",
    "\n",
    "rotations = all_rotations(men_list, women_list)\n",
    "print(len(rotations))\n",
    "for r in rotations:\n",
    "    print(r)"
   ]
  },
  {
   "cell_type": "code",
   "execution_count": 3,
   "metadata": {},
   "outputs": [],
   "source": [
    "from join_irreducible import join_irreducible_matching"
   ]
  },
  {
   "cell_type": "code",
   "execution_count": 4,
   "metadata": {},
   "outputs": [
    {
     "data": {
      "text/plain": [
       "{m_0: w_5,\n",
       " m_1: w_7,\n",
       " m_2: w_0,\n",
       " m_3: w_9,\n",
       " m_4: w_8,\n",
       " m_5: w_6,\n",
       " m_6: w_3,\n",
       " m_7: w_1,\n",
       " m_8: w_4,\n",
       " m_9: w_2,\n",
       " w_0: m_2,\n",
       " w_1: m_7,\n",
       " w_2: m_9,\n",
       " w_3: m_6,\n",
       " w_4: m_8,\n",
       " w_5: m_0,\n",
       " w_6: m_5,\n",
       " w_7: m_1,\n",
       " w_8: m_4,\n",
       " w_9: m_3}"
      ]
     },
     "execution_count": 4,
     "metadata": {},
     "output_type": "execute_result"
    }
   ],
   "source": [
    "join_irreducible_matching(rotations[0], men_list, women_list)"
   ]
  },
  {
   "cell_type": "code",
   "execution_count": 5,
   "metadata": {},
   "outputs": [
    {
     "data": {
      "text/plain": [
       "{m_0: w_5,\n",
       " m_1: w_7,\n",
       " m_2: w_8,\n",
       " m_3: w_9,\n",
       " m_4: w_0,\n",
       " m_5: w_6,\n",
       " m_6: w_3,\n",
       " m_7: w_1,\n",
       " m_8: w_4,\n",
       " m_9: w_2,\n",
       " w_0: m_4,\n",
       " w_1: m_7,\n",
       " w_2: m_9,\n",
       " w_3: m_6,\n",
       " w_4: m_8,\n",
       " w_5: m_0,\n",
       " w_6: m_5,\n",
       " w_7: m_1,\n",
       " w_8: m_2,\n",
       " w_9: m_3}"
      ]
     },
     "execution_count": 5,
     "metadata": {},
     "output_type": "execute_result"
    }
   ],
   "source": [
    "join_irreducible_matching(rotations[1], men_list, women_list)"
   ]
  },
  {
   "cell_type": "code",
   "execution_count": 6,
   "metadata": {},
   "outputs": [
    {
     "data": {
      "text/plain": [
       "{m_0: w_5,\n",
       " m_1: w_8,\n",
       " m_2: w_7,\n",
       " m_3: w_9,\n",
       " m_4: w_0,\n",
       " m_5: w_6,\n",
       " m_6: w_3,\n",
       " m_7: w_1,\n",
       " m_8: w_4,\n",
       " m_9: w_2,\n",
       " w_0: m_4,\n",
       " w_1: m_7,\n",
       " w_2: m_9,\n",
       " w_3: m_6,\n",
       " w_4: m_8,\n",
       " w_5: m_0,\n",
       " w_6: m_5,\n",
       " w_7: m_2,\n",
       " w_8: m_1,\n",
       " w_9: m_3}"
      ]
     },
     "execution_count": 6,
     "metadata": {},
     "output_type": "execute_result"
    }
   ],
   "source": [
    "join_irreducible_matching(rotations[2], men_list, women_list)"
   ]
  },
  {
   "cell_type": "code",
   "execution_count": null,
   "metadata": {},
   "outputs": [],
   "source": []
  }
 ],
 "metadata": {
  "kernelspec": {
   "display_name": "base",
   "language": "python",
   "name": "python3"
  },
  "language_info": {
   "codemirror_mode": {
    "name": "ipython",
    "version": 3
   },
   "file_extension": ".py",
   "mimetype": "text/x-python",
   "name": "python",
   "nbconvert_exporter": "python",
   "pygments_lexer": "ipython3",
   "version": "3.10.11"
  },
  "orig_nbformat": 4
 },
 "nbformat": 4,
 "nbformat_minor": 2
}
